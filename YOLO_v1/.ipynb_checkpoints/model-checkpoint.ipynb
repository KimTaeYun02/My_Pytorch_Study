{
 "cells": [
  {
   "attachments": {
    "image-2.png": {
     "image/png": "[encoded data removed]"
    }
   },
   "cell_type": "markdown",
   "id": "741e2a21",
   "metadata": {},
   "source": [
    "### Train YOLO V1\n",
    "\n",
    "* 정의한 DarkNet에 이미지를 입력하여 7 * 7 * 30 크기의 feature map을 loss function을 통해 학습\n",
    "* detection 시에는 최종 예측 결과에 Non Maximum Suppression 알고리즘 사용\n",
    "![image-2.png](attachment:image-2.png)"
   ]
  },
  {
   "cell_type": "code",
   "execution_count": null,
   "id": "cce69bde",
   "metadata": {},
   "outputs": [],
   "source": [
    "import torch\n",
    "import torch.nn as nn"
   ]
  },
  {
   "cell_type": "markdown",
   "id": "509f20d3",
   "metadata": {},
   "source": [
    "### architecture_config(DarkNet)\n",
    "\n",
    "* (kernel_size, num_filters, stride, padding)이 튜플 형식으로 저장\n",
    "\n",
    "* \"M\"은 maxpooling을 의미함.\n",
    "\n",
    "* 마지막 리스트 요소는 마지막 정수값 만큼 반복함을 의미\n",
    "\n",
    "* 리스트 요소의 자료형에 따라 layer을 추가하여 모델을 설계\n",
    "\n",
    "* 문자열 그러니까 \"M\"인경우는  max pooling, 튜플일경우 해당 하이퍼파라미터에 맞는 conv layer를, 리스트일 경우는 그만큼 layer 반복해 줌. 즉 type(문자형)에 따라서 어떤 행동을 할지 결정"
   ]
  },
  {
   "cell_type": "code",
   "execution_count": null,
   "id": "3241f348",
   "metadata": {},
   "outputs": [],
   "source": [
    "architecture_config = [\n",
    "    (7, 64, 2, 3),\n",
    "    \"M\"\n",
    "    (3, 192, 1, 1),\n",
    "    \"M\",\n",
    "    (1, 128, 1, 0),\n",
    "    (3, 256, 1, 1),\n",
    "    (1, 256, 1, 0),\n",
    "    (3, 512, 1, 1),\n",
    "    \"M\",\n",
    "    [(1, 256, 1, 0), (3, 512, 1, 1), 4],\n",
    "    (1, 512, 1, 0),\n",
    "    (3, 1024, 1, 1),\n",
    "    \"M\",\n",
    "    \n",
    "    [(1, 512, 1, 0), (3, 1024, 1, 1), 2],\n",
    "    (3, 1024, 1, 1),\n",
    "    (3, 1024, 2, 1),\n",
    "    (3, 1024, 1, 1),\n",
    "    (3, 1024, 1, 1),\n",
    "]"
   ]
  },
  {
   "cell_type": "markdown",
   "id": "c9fd4647",
   "metadata": {},
   "source": [
    "### torch.nn\n",
    "* torch.nn 패키지를 통해 신경망을 생성\n",
    "* nn은 모델을 정의하고 미분하는데 torch.autograd를 사용\n",
    "* 여기서 torch.autograd는 pytorch의 자동 미분 엔진(순전파, 역전파)\n",
    "* nn은 모델 만드는데 기초함수 같음\n",
    "\n",
    "### nn.Conv2d\n",
    "* nn.Conv2d는 3가지 파라미터를 사용함.\n",
    "* in_channels, out_channels, kernel_size를 입력받음\n",
    "* input 값에 2d colvolution을 적용하는 함수\n",
    "* (N, C, H, W)로 입출력함, N은 batch size, C는 채널 수, H와 W는 높이와 너비를 뜻함.\n",
    "* default는 bias=True인데 여기서는 False로 설정함.\n",
    "* https://gaussian37.github.io/dl-pytorch-conv2d/\n",
    "\n",
    "### nn.BatchNorm2d\n",
    "* 배치 정규화 함수\n",
    "* 일반적으로 경사하강법을 사용할 때 한꺼번에 너무 많은 데이터를 처리하지 못하기 때문에 batch 단위로 나눠서 학습함. 그래서 일부의 데이터(batch size)만큼만 사용하는 SGD(stochastic gradient descent)를 사용함. 이때, 학습 데이터 전체를 한번 학습하는 것을 Epoch라고 하고 Gradient를 구하는 단위를 Batch라고 한다.\n",
    "* 이때 Batch 단위로 학습하면 Internal Covariant Shift(내부 공변량 변화?)라는 문제가 발생하기 때문에, 배치 정규화를 통해서 해결.\n",
    "* 배치별로 평균과 분산을 이용해 정규화 하는 것.\n",
    "* https://gaussian37.github.io/dl-concept-batchnorm/\n",
    "\n",
    "### nn.LeakyReLU\n",
    "* 활성화 함수\n",
    "* 활성화 함수를 사용하는 이유는 XOR 문제에서 출발함. 초창기의 퍼셉트론은 AND와 OR은 해결할 수 있었지만, XOR을 해결하지 못했는데 이 때문에 hidden layer을 통해서 해결함. 하지만, hidden layer을 무작정 쌓아도 선형분류기를 비선형 분류기로 바꿀수가 없음. 왜냐하면 아무리 많은 선형 분류기가 있어도 y= ax+b의 성질 때문에 하나의 식으로 나타낼 수 있기 때문에 깊은 layer을 구현하지 못함.\n",
    "* 즉, 선형 연산을 하는 layer을 수 십개 쌓아도 하나의 선형 연산으로 나타낼 수 있다.\n",
    "* 이를 해결하기 위해 활성화 함수를 통해서 비선형 방식으로 출력값을 도출함.\\\n",
    "\n",
    "\n",
    "* input 값이 음수일때 기울기가 0.01으로 ReLu보다는 학습이 더 잘된다.\n",
    "* LeakyReLU(x)=max(0,x)+negative_slope∗min(0,x)\n",
    "* https://pytorch.org/docs/stable/generated/torch.nn.LeakyReLU.html\n",
    "\n",
    "### def forward(self, x):\n",
    "* forward pass\n",
    "* 순전파랑 차이점?\n",
    "* https://ko.d2l.ai/chapter_deep-learning-basics/backprop.html\n",
    "* CNNBlock에 있는 것을 순서대로(Conv2d -> 정규화 -> 활성화 함수)\n"
   ]
  },
  {
   "cell_type": "code",
   "execution_count": null,
   "id": "30967d2e",
   "metadata": {},
   "outputs": [],
   "source": [
    "# torch.nn.Module을 상속받는 파이썬 클래스\n",
    "# conv layer 다음 배치 정규화 relu 순으로 이루어짐.\n",
    "class CNNBlock(nn.Module): \n",
    "    def __init__(self, in_channels, out_channels, **kwargs):\n",
    "        super(CNNBlock, self).__init__()\n",
    "        #컨볼루션 커널 정의, in_channel과 out_channel로 입력받은 것들을 기준으로\n",
    "        self.conv = nn.Conv2d(in_channels, out_channels, bias=False, **kwargs)\n",
    "        #기울기 소실이나 발산 등의 문제로 정규화를 거쳐줌\n",
    "        self.batchnorm = nn.BatchNorm2d(out_channels)\n",
    "        #렐루함수\n",
    "        self.leakyrelu = nn.LeakyReLU(0.1)\n",
    "\n",
    "    def forward(self, x):\n",
    "        return self.leakyrelu(self.batchnorm(self.conv(x)))"
   ]
  },
  {
   "cell_type": "markdown",
   "id": "2f3b66ef",
   "metadata": {},
   "source": [
    "#### Yolov1의 기본적인 구성\n"
   ]
  },
  {
   "cell_type": "code",
   "execution_count": null,
   "id": "bbc28799",
   "metadata": {},
   "outputs": [],
   "source": [
    "class Yolov1(nn.Module):\n",
    "    def __init__(self, in_channels=3, **kwargs):\n",
    "        super(Yolov1, self).__init__()\n",
    "        self.architecture = architecture_config\n",
    "        self.in_channels = in_channels\n",
    "        #darknet을 만드는 과정?\n",
    "        self.darknet = self._create_conv_layers(self.architecture)\n",
    "        self.fcs = self._create_fcs(**kwargs)\n",
    "\n",
    "    def forward(self, x):\n",
    "        x = self.darknet(x)\n",
    "        return self.fcs(torch.flatten(x, start_dim=1))\n",
    "    "
   ]
  },
  {
   "cell_type": "markdown",
   "id": "dac66946",
   "metadata": {},
   "source": [
    "###  def _create_conv_layers(self, architecture):\n",
    "* self.darknet = self._create_conv_layers(self.architecture)을 통해 Darknet을 만드는 것 같음\n",
    "* self.architecture를 통해 앞에서 구조를 정의함\n",
    "* 앞에서 정의한 CNNBlock 사용\n",
    "\n",
    "\n",
    "* list로 선언된 architecture의 type를 통해 layer를 쌓음.\n",
    "* tuple일 경우에는 해당 하이퍼 파라미터에 맞는 conv layer를, str일 경우에는 max pooling을, list일 경우에는 그만큼 layer을 반복해줌\n",
    "\n",
    "#### nn.MaxPool2d\n",
    "* pooling이란 간단히 말하면 특징을 뽑아내는 과정\n",
    "* conv layer에서 filter를 통해 이미지의 feature을 계산 -> 계산 결과를 활성화 함수로 정리 -> 이후 계산결과를 pooling해주는 과정\n",
    "\n",
    "\n",
    "* Pooling은 input size를 줄여서 텐서의 크기를 줄이고, 오버피팅을 조절함. 특징을 잘 뽑아낼 수 있다는 장점이 있음.\n",
    "* 여기서는 2*2의 크기를 가짐. \n",
    "\n",
    "#### Padding과Stride\n",
    "* stirde는 filter를 이동하는 간격\n",
    "* padding은 input의 크기만큼 이미지의 상하좌우에 '0'으로 된 pad가 둘러지게 된다.\n",
    "\n",
    "\n",
    "### nn.Sequential\n",
    "* 편하게 순차적으로 실행하도록 담는 container임.\n",
    "* https://hanseokhyeon.tistory.com/entry/PyTorch-nnSequential-%EC%95%8C%EC%95%84%EB%B3%B4%EA%B8%B0"
   ]
  },
  {
   "cell_type": "code",
   "execution_count": null,
   "id": "adf312f5",
   "metadata": {},
   "outputs": [],
   "source": [
    "    def _create_conv_layers(self, architecture):\n",
    "        layers = []\n",
    "        in_channels = self.in_channels\n",
    "\n",
    "        for x in architecture:\n",
    "            if type(x) == tuple:\n",
    "                layers += [\n",
    "                    CNNBlock(\n",
    "                        in_channels, x[1], kernel_size=x[0], stride=x[2], padding=x[3],\n",
    "                    )\n",
    "                ]\n",
    "                in_channels = x[1]\n",
    "\n",
    "            elif type(x) == str:\n",
    "                layers += [nn.MaxPool2d(kernel_size=(2, 2), stride=(2, 2))]\n",
    "\n",
    "            elif type(x) == list:\n",
    "                conv1 = x[0]\n",
    "                conv2 = x[1]\n",
    "                num_repeats = x[2]\n",
    "\n",
    "                for _ in range(num_repeats):\n",
    "                    layers += [\n",
    "                        CNNBlock(\n",
    "                            in_channels,\n",
    "                            conv1[1],\n",
    "                            kernel_size=conv1[0],\n",
    "                            stride=conv1[2],\n",
    "                            padding=conv1[3],\n",
    "                        )\n",
    "                    ]\n",
    "                    layers += [\n",
    "                        CNNBlock(\n",
    "                            conv1[1],\n",
    "                            conv2[1],\n",
    "                            kernel_size=conv2[0],\n",
    "                            stride=conv2[2],\n",
    "                            padding=conv2[3],\n",
    "                        )\n",
    "                    ]\n",
    "                    in_channels = conv2[1]\n",
    "\n",
    "        return nn.Sequential(*layers)"
   ]
  },
  {
   "cell_type": "markdown",
   "id": "a1adfdfe",
   "metadata": {},
   "source": [
    "#### Yolo loss에 사용하는듯? "
   ]
  },
  {
   "cell_type": "code",
   "execution_count": null,
   "id": "999fabb6",
   "metadata": {},
   "outputs": [],
   "source": [
    "    def _create_fcs(self, split_size, num_boxes, num_classes):\n",
    "        S, B, C = split_size, num_boxes, num_classes\n",
    "\n",
    "        # In original paper this should be\n",
    "        # nn.Linear(1024*S*S, 4096),\n",
    "        # nn.LeakyReLU(0.1),\n",
    "        # nn.Linear(4096, S*S*(B*5+C))\n",
    "\n",
    "        return nn.Sequential(\n",
    "            nn.Flatten(),\n",
    "            nn.Linear(1024 * S * S, 496),\n",
    "            nn.Dropout(0.0),\n",
    "            nn.LeakyReLU(0.1),\n",
    "            nn.Linear(496, S * S * (C + B * 5)),\n",
    "        )"
   ]
  }
 ],
 "metadata": {
  "kernelspec": {
   "display_name": "Python 3",
   "language": "python",
   "name": "python3"
  },
  "language_info": {
   "codemirror_mode": {
    "name": "ipython",
    "version": 3
   },
   "file_extension": ".py",
   "mimetype": "text/x-python",
   "name": "python",
   "nbconvert_exporter": "python",
   "pygments_lexer": "ipython3",
   "version": "3.8.8"
  }
 },
 "nbformat": 4,
 "nbformat_minor": 5
}
