{
 "cells": [
  {
   "cell_type": "markdown",
   "id": "066d39fa",
   "metadata": {},
   "source": [
    "# Matrix Factorization train/test split\n",
    "- Team 메로나 김태윤"
   ]
  },
  {
   "cell_type": "code",
   "execution_count": 1,
   "id": "e8c33d8c",
   "metadata": {},
   "outputs": [],
   "source": [
    "import os\n",
    "import numpy as np\n",
    "import pandas as pd"
   ]
  },
  {
   "cell_type": "code",
   "execution_count": 2,
   "id": "9e0aa64d",
   "metadata": {},
   "outputs": [],
   "source": [
    "u_data_src = os.path.join('u.data')\n",
    "r_cols = ['user_id', 'movie_id', 'rating', 'timestampe']\n",
    "ratings = pd.read_csv(u_data_src,\n",
    "                     sep='\\t',\n",
    "                     names = r_cols,\n",
    "                     encoding='latin-1')\n",
    "\n",
    "# timestampe 제거\n",
    "ratings = ratings[['user_id', 'movie_id', 'rating']].astype(int)"
   ]
  },
  {
   "attachments": {
    "image.png": {
     "image/png": "[encoded data removed]"
    }
   },
   "cell_type": "markdown",
   "id": "776ddb11",
   "metadata": {},
   "source": [
    "#### sklearn을 통한 test/test 나누기\n",
    "- train_size = 0.75(test_size = 0.25)\n",
    "- cutoff를 통해 train_size에 맞춰서 ratings을 자름\n",
    "- ratings_train = ratings.iloc[ : cutoff]  =>> 1 ~ (cutoff - 1) 까지 train\n",
    "- ratings_test = ratings.iloc[cutoff : ]  =>> cutoff ~  까지 test\n",
    "\n",
    "##### .iloc 메서드\n",
    "![image.png](attachment:image.png)"
   ]
  },
  {
   "cell_type": "code",
   "execution_count": 3,
   "id": "7a2be557",
   "metadata": {
    "scrolled": true
   },
   "outputs": [],
   "source": [
    "from sklearn.utils import shuffle\n",
    "\n",
    "# train 75% test 25%\n",
    "TRAIN_SIZE = 0.75\n",
    "# random_state는 seed 비슷한 것\n",
    "# 사용자 - 영화 - 평점\n",
    "ratings = shuffle(ratings, random_state = 2021)\n",
    "cutoff = int(TRAIN_SIZE * len(ratings))\n",
    "ratings_train = ratings.iloc[ : cutoff]\n",
    "ratings_test = ratings.iloc[cutoff : ]\n"
   ]
  },
  {
   "cell_type": "markdown",
   "id": "c921847e",
   "metadata": {},
   "source": [
    "## 전체 코드"
   ]
  },
  {
   "cell_type": "code",
   "execution_count": 13,
   "id": "dd609b25",
   "metadata": {},
   "outputs": [
    {
     "name": "stdout",
     "output_type": "stream",
     "text": [
      "Iteration : 10 ;test RMSE 0.9585 ; \n",
      "Iteration : 20 ;test RMSE 0.9376 ; \n",
      "Iteration : 30 ;test RMSE 0.9288 ; \n",
      "Iteration : 40 ;test RMSE 0.9239 ; \n",
      "Iteration : 50 ;test RMSE 0.9209 ; \n",
      "Iteration : 60 ;test RMSE 0.9188 ; \n",
      "Iteration : 70 ;test RMSE 0.9174 ; \n",
      "Iteration : 80 ;test RMSE 0.9162 ; \n",
      "Iteration : 90 ;test RMSE 0.9154 ; \n",
      "Iteration : 100 ;test RMSE 0.9147 ; \n"
     ]
    }
   ],
   "source": [
    "class NEW_MF():\n",
    "    def __init__(self, ratings, hyper_params):\n",
    "        self.R = np.array(ratings)\n",
    "        self.num_users, self.num_items = np.shape(self.R)\n",
    "        self.K = hyper_params['K']\n",
    "        self.alpha = hyper_params['alpha']\n",
    "        self.beta = hyper_params['beta']\n",
    "        self.iterations = hyper_params['iterations']\n",
    "        self.verbose = hyper_params['verbose']\n",
    "        \n",
    "        # 데이터가 연속값이 아닐 때 (탈퇴, 휴먼계정)\n",
    "        # 비어있는 값, \n",
    "        item_id_index = []\n",
    "        index_item_id = []\n",
    "        \n",
    "        for i,one_id in enumerate(ratings.T):\n",
    "            item_id_index.append([one_id, i])\n",
    "            index_item_id.append([i, one_id])\n",
    "        self.item_id_index = dict(item_id_index)\n",
    "        self.index_item_id = dict(index_item_id)\n",
    "        \n",
    "        user_id_index = []\n",
    "        index_user_id = []\n",
    "        for i,one_id in enumerate(ratings.T):\n",
    "            user_id_index.append([one_id, i])\n",
    "            index_user_id.append([i, one_id])\n",
    "        self.user_id_index = dict(user_id_index)\n",
    "        self.index_user_id = dict(index_user_id)\n",
    "        \n",
    "    def rmse(self):\n",
    "        xs, ys = self.R.nonzero()\n",
    "        self.predictions = []\n",
    "        self.errors = []\n",
    "        \n",
    "        for x,y in zip(xs, ys):\n",
    "            prediction = self.get_prediction(x,y)\n",
    "            self.predictions.append(prediction)\n",
    "            self.errors.append(self.R[x,y] - prediction)\n",
    "        \n",
    "        self.predictions = np.array(self.predictions)\n",
    "        self.errors = np.array(self.errors)\n",
    "        \n",
    "        return np.sqrt(np.mean(self.errors**2))\n",
    "    \n",
    "    \n",
    "    def get_prediction(self,i,j):\n",
    "        prediction = self.b + self.b_u[i] + self.b_d[j] + self.P[i,:].dot(self.Q[j,].T)\n",
    "        return prediction\n",
    "    \n",
    "    #Test set 선정\n",
    "    def set_test(self, ratings_test):\n",
    "        test_set = []\n",
    "        for i in range(len(ratings_test)):\n",
    "            x = self.user_id_index[ratings_test.iloc[i, 0]]\n",
    "            y = self.item_id_index[ratings_test.iloc[i, 0]]\n",
    "            z = ratings_test.iloc[i,2]\n",
    "            test_set.append([x,y,z])\n",
    "            self.R[x,y] = 0\n",
    "        self.test_set = test_set\n",
    "        return test_set\n",
    "    \n",
    "    #test set rmse 계산\n",
    "    def test_rmse(self):\n",
    "        error = 0\n",
    "        for one_set in self.test_set:\n",
    "            #유저아이디, 아이템아이디\n",
    "            predicted = self.get_prediction(one_set[0], one_set[1])\n",
    "            # e => e^2\n",
    "            error += pow(one_set[2] - predicted, 2)\n",
    "        return np.sqrt(error/len(self.test_set))\n",
    "    \n",
    "    def test(self):\n",
    "        self.P = np.random.normal(scale=1./self.K,\n",
    "                                 size=(self.num_users, self.K))\n",
    "        self.Q = np.random.normal(scale=1./self.K,\n",
    "                                 size=(self.num_items, self.K))\n",
    "        self.b_u = np.zeros(self.num_users)\n",
    "        self.b_d = np.zeros(self.num_items)\n",
    "        self.b = np.mean(self.R[self.R.nonzero()])\n",
    "        \n",
    "        rows, columns = self.R.nonzero()\n",
    "        self.samples = [(i,j,self.R[i,j]) for i,j in zip(rows, columns)]\n",
    "        \n",
    "        training_process = []\n",
    "        \n",
    "        for i in range(self.iterations):\n",
    "            np.random.shuffle(self.samples)\n",
    "            self.sgd()\n",
    "            rmse1 = self.rmse()\n",
    "            rmse2 = self.test_rmse()\n",
    "            training_process.append((i+1, rmse1, rmse2))\n",
    "            if self.verbose:\n",
    "                if(i+1) % 10 == 0:\n",
    "                    print('Iteration : %d ;test RMSE %.4f ; '%(i+1, rmse1))\n",
    "    \n",
    "    def get_one_prediction(self, user_id, item_id):\n",
    "        return self.get_prediction(self.user_id_index[user_id], \n",
    "                                   self.item_id_index[item_id])\n",
    "    def full_prediction(self):\n",
    "        return self.b + self.b_u[:, np.newaxis] + self.b_d[np.newaxis, :] + self.P.dot(self.Q.T)\n",
    "    \n",
    "    def sgd(self):\n",
    "        for i, j, r in self.samples:\n",
    "            prediction = self.get_prediction(i, j)\n",
    "            \n",
    "            e = (r-prediction)\n",
    "            \n",
    "            self.b_u[i] += self.alpha * (e - (self.beta * self.b_u[i]))\n",
    "            self.b_d[j] += self.alpha * (e - (self.beta * self.b_d[i]))\n",
    "            \n",
    "            self.P[i, :] += self.alpha * ((e * self.Q[j, :]) - (self.beta * self.P[i, :]))\n",
    "            self.P[i, :] += self.alpha * ((e * self.P[i, :]) - (self.beta * self.Q[j, :]))\n",
    "    \n",
    "R_temp = ratings.pivot(index = 'user_id',\n",
    "                          columns = 'movie_id',\n",
    "                          values='rating').fillna(0)\n",
    "    \n",
    "hyper_params = {   \n",
    "    'K' : 30,\n",
    "    'alpha' : 0.001,\n",
    "    'beta' : 0.02,\n",
    "    'iterations' : 100,\n",
    "    'verbose' : True\n",
    "}\n",
    "    \n",
    "mf = NEW_MF(R_temp, hyper_params)\n",
    "test_set = mf.set_test(ratings_test)\n",
    "result = mf.test()\n",
    "            \n",
    "\n"
   ]
  },
  {
   "cell_type": "markdown",
   "id": "780dabeb",
   "metadata": {},
   "source": [
    "#### def __init__(self, ratings, hyper_params):\n",
    "- 사용자가 탈퇴, 휴먼계정 등의 이유로 결측치(연속값이 아닐)가 있을 수 있음.\n",
    "- 이런 경우 self.R을 np.array로 변환할 경우 비어있는 아이디 때문에 index가 일치하지 않아 문제가 발생할 수 있음\n",
    "- item_id와 user_id를 mapping하는 과정"
   ]
  },
  {
   "cell_type": "code",
   "execution_count": null,
   "id": "8c8cc0a0",
   "metadata": {},
   "outputs": [],
   "source": [
    "    def __init__(self, ratings, hyper_params):\n",
    "        self.R = np.array(ratings)\n",
    "        self.num_users, self.num_items = np.shape(self.R)\n",
    "        self.K = hyper_params['K']\n",
    "        self.alpha = hyper_params['alpha']\n",
    "        self.beta = hyper_params['beta']\n",
    "        self.iterations = hyper_params['iterations']\n",
    "        self.verbose = hyper_params['verbose']\n",
    "        \n",
    "        # 데이터가 연속값이 아닐 때 (탈퇴, 휴먼계정)\n",
    "        # 비어있는 값, \n",
    "        item_id_index = []\n",
    "        index_item_id = []\n",
    "        \n",
    "        for i,one_id in enumerate(ratings.T):\n",
    "            item_id_index.append([one_id, i])\n",
    "            index_item_id.append([i, one_id])\n",
    "        self.item_id_index = dict(item_id_index)\n",
    "        self.index_item_id = dict(index_item_id)\n",
    "        \n",
    "        user_id_index = []\n",
    "        index_user_id = []\n",
    "        for i,one_id in enumerate(ratings.T):\n",
    "            user_id_index.append([one_id, i])\n",
    "            index_user_id.append([i, one_id])\n",
    "        self.user_id_index = dict(user_id_index)\n",
    "        self.index_user_id = dict(index_user_id)"
   ]
  },
  {
   "cell_type": "markdown",
   "id": "88a3e4cd",
   "metadata": {},
   "source": [
    "#### def set_test(self, ratings_test):\n",
    "- 분리된 test set을 넘겨받아 test set을 선정하는 과정"
   ]
  },
  {
   "cell_type": "code",
   "execution_count": null,
   "id": "1aa2b439",
   "metadata": {},
   "outputs": [],
   "source": [
    "    def set_test(self, ratings_test):\n",
    "        test_set = []\n",
    "        for i in range(len(ratings_test)):\n",
    "            x = self.user_id_index[ratings_test.iloc[i, 0]]\n",
    "            y = self.item_id_index[ratings_test.iloc[i, 1]]\n",
    "            z = ratings_test.iloc[i,2]\n",
    "            test_set.append([x,y,z])\n",
    "            self.R[x,y] = 0\n",
    "        self.test_set = test_set\n",
    "        return test_set"
   ]
  },
  {
   "attachments": {
    "image.png": {
     "image/png": "[encoded data removed]"
    }
   },
   "cell_type": "markdown",
   "id": "ed5e9f82",
   "metadata": {},
   "source": [
    "#### def test_rmse(self):\n",
    "- test set의 rmse를 계산하는 과정\n",
    "![image.png](attachment:image.png)\n",
    "- 위 방법과 약간 다른데 제곱하는 과정을 pow로 바꾼 것\n",
    "- mean => len(self.test_set)"
   ]
  },
  {
   "cell_type": "code",
   "execution_count": null,
   "id": "21ea6912",
   "metadata": {},
   "outputs": [],
   "source": [
    "    def test_rmse(self):\n",
    "        error = 0\n",
    "        for one_set in self.test_set:\n",
    "            #유저아이디, 아이템아이디\n",
    "            predicted = self.get_prediction(one_set[0], one_set[1])\n",
    "            # e => e^2\n",
    "            error += pow(one_set[2] - predicted, 2)\n",
    "        return np.sqrt(error/len(self.test_set))"
   ]
  },
  {
   "cell_type": "markdown",
   "id": "1d871ea7",
   "metadata": {},
   "source": [
    "#### 예측\n",
    "- def get_one_prediction(self, user_id, item_id):\n",
    "- # 사용자 1의 item_id 2번의 대한 예측\n"
   ]
  },
  {
   "cell_type": "code",
   "execution_count": 16,
   "id": "c52fe18b",
   "metadata": {},
   "outputs": [
    {
     "name": "stdout",
     "output_type": "stream",
     "text": [
      "[[3.89398144 3.29873781 3.09080475 ... 3.32218825 3.44825209 3.4147956 ]\n",
      " [3.94667732 3.34616146 3.14799564 ... 3.36982645 3.50362613 3.46134037]\n",
      " [3.35941666 2.78468568 2.56501681 ... 2.80331463 2.94653297 2.89061232]\n",
      " ...\n",
      " [4.21429434 3.62644756 3.41199971 ... 3.65149315 3.7695324  3.73126183]\n",
      " [4.3441877  3.75136618 3.54034578 ... 3.78296601 3.89588789 3.86082213]\n",
      " [3.82173833 3.22364512 3.01517653 ... 3.24321337 3.36556771 3.33443302]]\n"
     ]
    }
   ],
   "source": [
    "# 사용자 1의 item_id 2번의 대한 예측\n",
    "print(mf.get_one_prediction(1,2))\n",
    "print(mf.full_prediction())"
   ]
  }
 ],
 "metadata": {
  "kernelspec": {
   "display_name": "Python 3 (ipykernel)",
   "language": "python",
   "name": "python3"
  },
  "language_info": {
   "codemirror_mode": {
    "name": "ipython",
    "version": 3
   },
   "file_extension": ".py",
   "mimetype": "text/x-python",
   "name": "python",
   "nbconvert_exporter": "python",
   "pygments_lexer": "ipython3",
   "version": "3.8.11"
  }
 },
 "nbformat": 4,
 "nbformat_minor": 5
}
