{
 "cells": [
  {
   "cell_type": "code",
   "execution_count": 10,
   "id": "732a769b",
   "metadata": {},
   "outputs": [],
   "source": [
    "class A(object):\n",
    "    def __init__(self):\n",
    "        print(\"A class\")\n",
    "        \n",
    "    def hello(self):\n",
    "        print(\"hello\")"
   ]
  },
  {
   "cell_type": "code",
   "execution_count": 11,
   "id": "b0f62d4e",
   "metadata": {},
   "outputs": [],
   "source": [
    "# A 상속\n",
    "class B(A):\n",
    "    def __init__(self):\n",
    "        print(\"B class\")\n",
    "        \n",
    "    def hi(self):\n",
    "        print(\"hi\")"
   ]
  },
  {
   "cell_type": "code",
   "execution_count": 7,
   "id": "75998a36",
   "metadata": {},
   "outputs": [
    {
     "name": "stdout",
     "output_type": "stream",
     "text": [
      "B class\n"
     ]
    }
   ],
   "source": [
    "b = B()"
   ]
  },
  {
   "cell_type": "code",
   "execution_count": 8,
   "id": "133195e5",
   "metadata": {},
   "outputs": [
    {
     "name": "stdout",
     "output_type": "stream",
     "text": [
      "hello\n"
     ]
    }
   ],
   "source": [
    "b.hello()"
   ]
  },
  {
   "cell_type": "code",
   "execution_count": 9,
   "id": "ad8d5a59",
   "metadata": {},
   "outputs": [
    {
     "name": "stdout",
     "output_type": "stream",
     "text": [
      "hi\n"
     ]
    }
   ],
   "source": [
    "b.hi()"
   ]
  },
  {
   "cell_type": "markdown",
   "id": "12bc56e9",
   "metadata": {},
   "source": [
    "#### Super()\n",
    "* 부모 클래스를 호출"
   ]
  },
  {
   "cell_type": "code",
   "execution_count": 17,
   "id": "aeef6935",
   "metadata": {},
   "outputs": [],
   "source": [
    "class B(A):\n",
    "    def __init__(self):\n",
    "        super().__init__()\n",
    "        super().hello()\n",
    "        print(\"B class\")\n",
    "        \n",
    "    def hi(self):\n",
    "        print(\"hi\")"
   ]
  },
  {
   "cell_type": "code",
   "execution_count": 19,
   "id": "6d43cc2a",
   "metadata": {},
   "outputs": [
    {
     "name": "stdout",
     "output_type": "stream",
     "text": [
      "A class\n",
      "hello\n",
      "B class\n"
     ]
    }
   ],
   "source": [
    "# A의 init, hello 호출\n",
    "b = B()"
   ]
  }
 ],
 "metadata": {
  "kernelspec": {
   "display_name": "Python 3",
   "language": "python",
   "name": "python3"
  },
  "language_info": {
   "codemirror_mode": {
    "name": "ipython",
    "version": 3
   },
   "file_extension": ".py",
   "mimetype": "text/x-python",
   "name": "python",
   "nbconvert_exporter": "python",
   "pygments_lexer": "ipython3",
   "version": "3.8.8"
  }
 },
 "nbformat": 4,
 "nbformat_minor": 5
}
