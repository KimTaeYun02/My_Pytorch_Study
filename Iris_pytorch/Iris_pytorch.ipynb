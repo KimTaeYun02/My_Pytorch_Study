{
 "cells": [
  {
   "cell_type": "code",
   "execution_count": 1,
   "id": "ff478138",
   "metadata": {},
   "outputs": [],
   "source": [
    "#-*- coding: cp949 -*-\n",
    "#-*- coding: utf-8 -*- \n",
    "import math\n",
    "import matplotlib.pyplot as plt\n",
    "import numpy as np\n",
    "import pandas as pd\n",
    "import torch\n",
    "from torch import nn, optim\n",
    "\n",
    "from sklearn.datasets import load_iris\n",
    "import tqdm\n",
    "\n",
    "\n",
    "iris= load_iris()\n",
    "data = pd.DataFrame(data= np.c_[iris['data'], iris['target']],\n",
    "                     columns= iris['feature_names'] + ['target'])"
   ]
  },
  {
   "cell_type": "code",
   "execution_count": 2,
   "id": "277e17ec",
   "metadata": {},
   "outputs": [
    {
     "data": {
      "text/html": [
       "<div>\n",
       "<style scoped>\n",
       "    .dataframe tbody tr th:only-of-type {\n",
       "        vertical-align: middle;\n",
       "    }\n",
       "\n",
       "    .dataframe tbody tr th {\n",
       "        vertical-align: top;\n",
       "    }\n",
       "\n",
       "    .dataframe thead th {\n",
       "        text-align: right;\n",
       "    }\n",
       "</style>\n",
       "<table border=\"1\" class=\"dataframe\">\n",
       "  <thead>\n",
       "    <tr style=\"text-align: right;\">\n",
       "      <th></th>\n",
       "      <th>sepal length (cm)</th>\n",
       "      <th>sepal width (cm)</th>\n",
       "      <th>petal length (cm)</th>\n",
       "      <th>petal width (cm)</th>\n",
       "      <th>target</th>\n",
       "    </tr>\n",
       "  </thead>\n",
       "  <tbody>\n",
       "    <tr>\n",
       "      <th>0</th>\n",
       "      <td>5.1</td>\n",
       "      <td>3.5</td>\n",
       "      <td>1.4</td>\n",
       "      <td>0.2</td>\n",
       "      <td>0.0</td>\n",
       "    </tr>\n",
       "    <tr>\n",
       "      <th>1</th>\n",
       "      <td>4.9</td>\n",
       "      <td>3.0</td>\n",
       "      <td>1.4</td>\n",
       "      <td>0.2</td>\n",
       "      <td>0.0</td>\n",
       "    </tr>\n",
       "    <tr>\n",
       "      <th>2</th>\n",
       "      <td>4.7</td>\n",
       "      <td>3.2</td>\n",
       "      <td>1.3</td>\n",
       "      <td>0.2</td>\n",
       "      <td>0.0</td>\n",
       "    </tr>\n",
       "    <tr>\n",
       "      <th>3</th>\n",
       "      <td>4.6</td>\n",
       "      <td>3.1</td>\n",
       "      <td>1.5</td>\n",
       "      <td>0.2</td>\n",
       "      <td>0.0</td>\n",
       "    </tr>\n",
       "    <tr>\n",
       "      <th>4</th>\n",
       "      <td>5.0</td>\n",
       "      <td>3.6</td>\n",
       "      <td>1.4</td>\n",
       "      <td>0.2</td>\n",
       "      <td>0.0</td>\n",
       "    </tr>\n",
       "    <tr>\n",
       "      <th>...</th>\n",
       "      <td>...</td>\n",
       "      <td>...</td>\n",
       "      <td>...</td>\n",
       "      <td>...</td>\n",
       "      <td>...</td>\n",
       "    </tr>\n",
       "    <tr>\n",
       "      <th>145</th>\n",
       "      <td>6.7</td>\n",
       "      <td>3.0</td>\n",
       "      <td>5.2</td>\n",
       "      <td>2.3</td>\n",
       "      <td>2.0</td>\n",
       "    </tr>\n",
       "    <tr>\n",
       "      <th>146</th>\n",
       "      <td>6.3</td>\n",
       "      <td>2.5</td>\n",
       "      <td>5.0</td>\n",
       "      <td>1.9</td>\n",
       "      <td>2.0</td>\n",
       "    </tr>\n",
       "    <tr>\n",
       "      <th>147</th>\n",
       "      <td>6.5</td>\n",
       "      <td>3.0</td>\n",
       "      <td>5.2</td>\n",
       "      <td>2.0</td>\n",
       "      <td>2.0</td>\n",
       "    </tr>\n",
       "    <tr>\n",
       "      <th>148</th>\n",
       "      <td>6.2</td>\n",
       "      <td>3.4</td>\n",
       "      <td>5.4</td>\n",
       "      <td>2.3</td>\n",
       "      <td>2.0</td>\n",
       "    </tr>\n",
       "    <tr>\n",
       "      <th>149</th>\n",
       "      <td>5.9</td>\n",
       "      <td>3.0</td>\n",
       "      <td>5.1</td>\n",
       "      <td>1.8</td>\n",
       "      <td>2.0</td>\n",
       "    </tr>\n",
       "  </tbody>\n",
       "</table>\n",
       "<p>150 rows × 5 columns</p>\n",
       "</div>"
      ],
      "text/plain": [
       "     sepal length (cm)  sepal width (cm)  petal length (cm)  petal width (cm)  \\\n",
       "0                  5.1               3.5                1.4               0.2   \n",
       "1                  4.9               3.0                1.4               0.2   \n",
       "2                  4.7               3.2                1.3               0.2   \n",
       "3                  4.6               3.1                1.5               0.2   \n",
       "4                  5.0               3.6                1.4               0.2   \n",
       "..                 ...               ...                ...               ...   \n",
       "145                6.7               3.0                5.2               2.3   \n",
       "146                6.3               2.5                5.0               1.9   \n",
       "147                6.5               3.0                5.2               2.0   \n",
       "148                6.2               3.4                5.4               2.3   \n",
       "149                5.9               3.0                5.1               1.8   \n",
       "\n",
       "     target  \n",
       "0       0.0  \n",
       "1       0.0  \n",
       "2       0.0  \n",
       "3       0.0  \n",
       "4       0.0  \n",
       "..      ...  \n",
       "145     2.0  \n",
       "146     2.0  \n",
       "147     2.0  \n",
       "148     2.0  \n",
       "149     2.0  \n",
       "\n",
       "[150 rows x 5 columns]"
      ]
     },
     "execution_count": 2,
     "metadata": {},
     "output_type": "execute_result"
    }
   ],
   "source": [
    "data"
   ]
  },
  {
   "cell_type": "code",
   "execution_count": 3,
   "id": "d4fb1ae5",
   "metadata": {},
   "outputs": [
    {
     "data": {
      "text/plain": [
       "list"
      ]
     },
     "execution_count": 3,
     "metadata": {},
     "output_type": "execute_result"
    }
   ],
   "source": [
    "data_set = data.iloc[:,[0,1,2,3]].values.tolist()\n",
    "data_set[0]\n",
    "type(data_set)"
   ]
  },
  {
   "cell_type": "code",
   "execution_count": 4,
   "id": "91833b8a",
   "metadata": {},
   "outputs": [],
   "source": [
    "class CustomDataset(torch.utils.data.Dataset): \n",
    "    def __init__(self, df):\n",
    "    #데이터셋의 전처리를 해주는 부분\n",
    "    \n",
    "    #sepal lenght,sepal width, petal length, petal width\n",
    "    #.iloc 이후 tolist()를 해줌\n",
    "    #왜나하면 df의 type이 <class 'pandas.core.frame.DataFrame'> 라서 list로 바꿔줘야함\n",
    "        self.x_data = df.iloc[:,[0,1,2,3]].values.tolist()\n",
    "        self.y_data = df.iloc[:, [4]].values.tolist()\n",
    "\n",
    "    def __len__(self):\n",
    "    #데이터셋의 길이. 즉, 총 샘플의 수를 적어주는 부분\n",
    "        return len(self.x_data)\n",
    "\n",
    "    def __getitem__(self, idx): \n",
    "    #데이터셋에서 특정 1개의 샘플을 가져오는 함수\n",
    "    #list를 tensor로 변환\n",
    "        x = torch.tensor(self.x_data[idx], dtype = torch.float32)\n",
    "        y = torch.tensor(self.y_data[idx], dtype = torch.float32)\n",
    "        return x,y\n",
    "        "
   ]
  },
  {
   "cell_type": "code",
   "execution_count": 5,
   "id": "df67c10f",
   "metadata": {},
   "outputs": [
    {
     "name": "stdout",
     "output_type": "stream",
     "text": [
      "tensor([[4.9000, 2.5000, 4.5000, 1.7000],\n",
      "        [4.4000, 3.2000, 1.3000, 0.2000],\n",
      "        [6.8000, 3.2000, 5.9000, 2.3000],\n",
      "        [6.0000, 3.0000, 4.8000, 1.8000]])\n",
      "tensor([[2.],\n",
      "        [0.],\n",
      "        [2.],\n",
      "        [2.]])\n"
     ]
    }
   ],
   "source": [
    "#데이터로더 확인\n",
    "import torch\n",
    "import torchvision.transforms as transforms\n",
    "\n",
    "dataset = CustomDataset(data)\n",
    "\n",
    "#batch_size 만큼 묶어서 데이터 (batch_size가 커지면 속도가 빨리짐, gpu 사용 증가)\n",
    "dataLoader = torch.utils.data.DataLoader(dataset, batch_size=4, shuffle=True)\n",
    "\n",
    "dataiter = iter(dataLoader)\n",
    "feature, target = dataiter.next()\n",
    "print(feature)\n",
    "print(target)\n",
    "\n"
   ]
  },
  {
   "cell_type": "code",
   "execution_count": 6,
   "id": "9e2dc02d",
   "metadata": {},
   "outputs": [
    {
     "name": "stdout",
     "output_type": "stream",
     "text": [
      "27\n",
      "12\n"
     ]
    }
   ],
   "source": [
    "#test, train 비율\n",
    "split_ratio = 0.7\n",
    "split_index = int(len(data) * split_ratio)\n",
    "\n",
    "#train, test셋 분류\n",
    "#데이터가 불균형하게 분포되어 있을 경우 사용 x\n",
    "train_dataset = CustomDataset(data[:split_index])\n",
    "test_dataset = CustomDataset(data[split_index:])\n",
    "\n",
    "#데이터 로더\n",
    "train_dataloader = torch.utils.data.DataLoader(train_dataset, batch_size=4, shuffle=True)\n",
    "test_dataloader = torch.utils.data.DataLoader(test_dataset, batch_size=4, shuffle=False)\n",
    "\n",
    "print(len(train_dataloader))\n",
    "print(len(test_dataloader))"
   ]
  },
  {
   "cell_type": "code",
   "execution_count": 7,
   "id": "4df2851f",
   "metadata": {},
   "outputs": [],
   "source": [
    "\"\"\"\n",
    "    def __init__(self, input_dim):\n",
    "        super(Model, self).__init__()\n",
    "        self.layer1 = nn.Linear(input_dim, 50)\n",
    "        self.layer2 = nn.Linear(50, 50)\n",
    "\"\"\"\n",
    "\n",
    "class iris_model(nn.Module):\n",
    "    def __init__(self, input_dim):\n",
    "        super(iris_model, self).__init__()\n",
    "        self.layer1 = nn.Linear(input_dim, 50)\n",
    "        self.layer2 = nn.Linear(50, 50)\n",
    "        #target 값이 0~2까지 있음\n",
    "        #그래서 마지막 layer의 output이 3\n",
    "        self.layer3 = nn.Linear(50, 3)\n",
    "        \n",
    "    def forward(self, x):\n",
    "        x = torch.relu(self.layer1(x))\n",
    "        x = torch.relu(self.layer2(x))\n",
    "        x = torch.softmax(self.layer3(x), dim=1)\n",
    "        return x\n",
    "\n",
    "#input_dim 입력받아야 함\n",
    "#input_dim은 feature의 개수\n",
    "learning_rate = 0.1\n",
    "model     = iris_model(input_dim=4)\n",
    "optimizer = torch.optim.Adam(model.parameters(), lr=0.0001)\n",
    "loss_fn   = nn.CrossEntropyLoss()\n",
    "model = iris_model(input_dim = 4)\n",
    "#model=Net(input_dim,hidden_dim,output_dim)\n",
    "#def __init__(self,D_in,H,D_out):\n",
    "\n"
   ]
  },
  {
   "cell_type": "code",
   "execution_count": 8,
   "id": "a17c4a66",
   "metadata": {},
   "outputs": [
    {
     "name": "stdout",
     "output_type": "stream",
     "text": [
      "27\n",
      "12\n"
     ]
    }
   ],
   "source": [
    "print(len(train_dataloader))\n",
    "print(len(test_dataloader))"
   ]
  },
  {
   "cell_type": "code",
   "execution_count": 9,
   "id": "be3e5c67",
   "metadata": {},
   "outputs": [
    {
     "name": "stdout",
     "output_type": "stream",
     "text": [
      "epoch 0, loss : 1.145\n",
      "epoch 100, loss : 1.138\n",
      "epoch 200, loss : 1.145\n",
      "epoch 300, loss : 1.143\n",
      "epoch 400, loss : 1.145\n",
      "epoch 500, loss : 1.145\n",
      "epoch 600, loss : 1.143\n",
      "epoch 700, loss : 1.143\n",
      "epoch 800, loss : 1.143\n",
      "epoch 900, loss : 1.145\n"
     ]
    }
   ],
   "source": [
    "n_epochs=1000\n",
    "loss_list=[]\n",
    "cnt = 0\n",
    "#n_epochs\n",
    "\n",
    "\n",
    "#train = 27\n",
    "#test = 12\n",
    "for epoch in range(n_epochs):\n",
    "    running_loss = 0.0\n",
    "\n",
    "    for x, y in train_dataloader:\n",
    "      #clear gradient \n",
    "        pred = model(x)\n",
    "\n",
    "\n",
    "        optimizer.zero_grad()\n",
    "        loss=loss_fn(pred, y.squeeze().long().view(-1))\n",
    "        loss.backward()\n",
    "        optimizer.step()\n",
    "        \n",
    "        loss_list.append(loss.data)\n",
    "        running_loss += loss.item()\n",
    "        #print(loss.item())\n",
    "    cost = running_loss / len(train_dataloader)\n",
    "    \n",
    "    if(epoch % 100 == 0):\n",
    "        print(\"epoch %d, loss : %.3f\" %(epoch, cost))\n"
   ]
  }
 ],
 "metadata": {
  "kernelspec": {
   "display_name": "Python 3",
   "language": "python",
   "name": "python3"
  },
  "language_info": {
   "codemirror_mode": {
    "name": "ipython",
    "version": 3
   },
   "file_extension": ".py",
   "mimetype": "text/x-python",
   "name": "python",
   "nbconvert_exporter": "python",
   "pygments_lexer": "ipython3",
   "version": "3.8.8"
  }
 },
 "nbformat": 4,
 "nbformat_minor": 5
}
